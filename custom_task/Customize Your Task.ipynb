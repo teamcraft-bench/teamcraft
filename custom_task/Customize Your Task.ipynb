{
 "cells": [
  {
   "cell_type": "markdown",
   "metadata": {},
   "source": [
    "# **Tutorial: Generating Randomized TeamCraft Configurations**\n",
    "\n",
    "This Jupyter notebook demonstrates how to generate coresponding JSON configuration files for your task. Each file defines:\n",
    "- The number of agents (bots), their starting positions, and their inventory.\n",
    "- The playgrounds (locations, sizes, and materials).\n",
    "- Blocks to place (coordinates, shapes, types).\n",
    "- Commands to execute within the environment (e.g., clearing areas, spawning mobs, and much [more](https://minecraft.fandom.com/wiki/Commands)!).\n",
    "\n",
    "---\n",
    "\n",
    "## 0. Requirement\n",
    "- Python 3.9+\n",
    "- numpy\n"
   ]
  },
  {
   "cell_type": "markdown",
   "metadata": {},
   "source": [
    "## 1. Helper Functions"
   ]
  },
  {
   "cell_type": "code",
   "execution_count": 7,
   "metadata": {},
   "outputs": [],
   "source": [
    "from helper import *\n",
    "import json\n",
    "import random"
   ]
  },
  {
   "cell_type": "markdown",
   "metadata": {},
   "source": [
    "## 2. Design your own task\n",
    "\n",
    "This tutorial will guide you thourgh how TeamCraft configure *building* task."
   ]
  },
  {
   "cell_type": "markdown",
   "metadata": {},
   "source": [
    "### 2.1 Define Parameters"
   ]
  },
  {
   "cell_type": "markdown",
   "metadata": {},
   "source": [
    "#### **Agent count**\n",
    "The current simulation platform supports an agent range from **2 to 4**.\n",
    "\n",
    "For **agent counts of 2 and 3**, TeamCraft loads **3 working agents** and **1 observer** by default, with the following roles:\n",
    "\n",
    "- **bot1**: Working Agent 1\n",
    "- **bot2**: Working Agent 2\n",
    "- **bot3**: Working Agent 3\n",
    "- **bot4**: Observer (default game mode: spectator, not visible in other agents' RGB rendering)\n",
    "\n",
    "**Note:** If the agent count is **2**, `bot3` will still join the game but will be teleported to a reserved point at **(10, 10, 10)**—far from the regular ground surface. By default, the environment will **not render its first-person perspective image**, but you can change this behavior by modifying the environment configuration file.\n",
    "\n",
    "For **agent count 4**, an additional working agent is introduced:\n",
    "\n",
    "- **bot0**: Working Agent 4\n",
    "\n",
    "Each agent has different skin, as shown below:\n",
    "\n",
    "# ![skin](skin.png)"
   ]
  },
  {
   "cell_type": "code",
   "execution_count": 8,
   "metadata": {},
   "outputs": [],
   "source": [
    "agent_counts = [2, 3, 4]"
   ]
  },
  {
   "cell_type": "markdown",
   "metadata": {},
   "source": [
    "#### **Background**\n",
    "The `background` variable defines the type of ground block used in the simulation. Below, you have been provided with a set of predefined blocks. However, you can add **over 800 more blocks** by using their [official Minecraft names](https://minecraft.wiki/w/Block).\n",
    "\n",
    "##### **Finding the Right Block Name**\n",
    "To use a new block type, follow these steps:\n",
    "\n",
    "1. **Locate your preferred block** under the \"List of Blocks\" section. Squared blocks are recommended.\n",
    "2. **Click on the block link** to open its detailed page.\n",
    "3. **Check its availability in version 1.16.4 (Java Edition):**\n",
    "   - Navigate to the **\"History\"** section.\n",
    "   - Find the **\"Java Edition\"** tab.\n",
    "   - Look for the version number in the first row under Java Edition.\n",
    "   - Ensure the block was introduced **before or in** version **1.16.4**.\n",
    "     - Example: [Bricks](https://minecraft.wiki/w/Bricks) were introduced in version **1.0.0**, so they are available.\n",
    "     - Example: [Froglight](https://minecraft.wiki/w/Froglight#Pearlescent) was introduced in **1.19**, which is later than **1.16.4**, so it is **not available**.\n",
    "4. **Retrieve the block name:**\n",
    "   - Go to the **\"Data values\"** section.\n",
    "   - Find the **\"ID\"** subsection.\n",
    "   - Locate the **\"Java Edition\"** identifier.\n",
    "   - Use the block name listed under **\"Identifier\"** in the script.\n",
    "5. **Add 'minecraft:' before the block name**\n",
    "   - A valid name should look like **minecraft:BLOCK_NAME**, where BLOCK_NAME is the name your just found.\n",
    "\n",
    "**Note:** Some blocks have different **variants**, primarily in color. Each variant is a valid block and can be used independently."
   ]
  },
  {
   "cell_type": "code",
   "execution_count": 9,
   "metadata": {},
   "outputs": [],
   "source": [
    "background = ['minecraft:cyan_concrete', 'minecraft:stone', 'minecraft:oak_wood', 'minecraft:hay_block', 'minecraft:glass',\n",
    "                'minecraft:glowstone', 'minecraft:gold_block', 'minecraft:pink_wool', 'minecraft:obsidian','minecraft:smooth_quartz']"
   ]
  },
  {
   "cell_type": "markdown",
   "metadata": {},
   "source": [
    "#### **Placeable Item**\n",
    "\n",
    "In this tutorial, we use *building* task as example, hence, all item are need to be a **Block** that are placeable, since this task requires agent to place block based on the blue print given. Therefore, in this case, the items agents interacting with will be the block, same as above.\n",
    "\n",
    "**Note:** You do not need to add \"minecraft:\" prefix in this case as it is handled later in the code"
   ]
  },
  {
   "cell_type": "code",
   "execution_count": 10,
   "metadata": {},
   "outputs": [],
   "source": [
    "all_items = ['oak_fence', 'birch_log', 'bookshelf', 'acacia_fence', 'oak_log', 'coal_ore',\n",
    "                'bricks', 'sandstone', 'stone', 'iron_ore', 'gold_ore', 'sponge', 'sea_lantern',\n",
    "                'dirt', 'grass_block', 'clay', 'oak_planks', 'emerald_block', 'bricks', 'pumpkin',\n",
    "                'orange_concrete', 'purple_wool', 'end_stone'\n",
    "            ]"
   ]
  },
  {
   "cell_type": "markdown",
   "metadata": {},
   "source": [
    "#### **Playground Location**\n",
    "\n",
    "Each playground environment has a **central location** and a **default size** of 5. We provide the following available locations:\n",
    "\n",
    "- **Village** → Center: `[223, 70, 128]`\n",
    "- **Desert Village** → Center: `[4261, 74, 161]`\n",
    "- **Swamp** → Center: `[4284, 64, 1126]`\n",
    "- **Ice on Water** → Center: `[7393, 63, 5325]`\n",
    "- **Snow Mountain** → Center: `[11671, 106, 8488]`\n",
    "- **Mountain Half** → Center: `[4302, 97, 211]`\n",
    "- **Forest** → Center: `[14140, 67, 10171]`\n",
    "\n",
    "You can also find your own playground location by:\n",
    "   - Launching a local Minecraft instance (refer to [env doc](../env_doc.md) under *Visualization* for setup instructions).\n",
    "   - Loading `/teamcraft/teamcraft/tasks/tasks_world/world_xxx` as a game save.\n",
    "   - Enabling cheats in the save:\n",
    "     - Press `esc`.\n",
    "     - Choose `Open to LAN`.\n",
    "     - Select `Allow Cheat`.\n",
    "     - Return to the game.\n",
    "   - Exploring the world using creative mode (`/gamemode creative`). Cheats must be enabled for this command to work.\n",
    "   - Once you find an ideal surface, press `F3`, and record the position of the block that will be the center of your playground floor.\n",
    "     - Look for **\"Targeted Block\"** on the right side of your debug screen.\n",
    "\n",
    "**Note:** If your playgound size is bigger than 5, you need to change the `obs command` later in the code, to let observer captcture the entire playgound.\n",
    "    "
   ]
  },
  {
   "cell_type": "code",
   "execution_count": 11,
   "metadata": {},
   "outputs": [],
   "source": [
    "# name, center, size\n",
    "# Recommended size is 5 or 6\n",
    "playground_data = [\n",
    "                    (\"villege\", [223, 70, 128], 5),\n",
    "                    (\"desert_villege\", [4261, 74, 161], 5),\n",
    "                    (\"swamp\", [4284, 64, 1126], 5),\n",
    "                    (\"ice_on_water\", [7393, 63, 5325], 5),\n",
    "                    (\"snow_mountain\", [11671, 106, 8488], 5),\n",
    "                    (\"mountain_half\", [4302, 97, 211], 5),\n",
    "                    (\"forest\", [14140, 67, 10171], 5)\n",
    "                  ]"
   ]
  },
  {
   "cell_type": "markdown",
   "metadata": {},
   "source": [
    "#### **Base Shape Configuration**\n",
    "\n",
    "\n",
    "In our case, we do not used the full space of the playground to place the blocks. Instead, we limit our blocks in the following shape.\n",
    "\n",
    "You can define your shape, as long as it satisfied [x,y,z]:\n",
    "   - x <= playground size (5 in our example)\n",
    "   - y <= 2\n",
    "   - z <= playgound size (5 in our example)"
   ]
  },
  {
   "cell_type": "code",
   "execution_count": 12,
   "metadata": {},
   "outputs": [],
   "source": [
    "# Shape of the base used for block placement\n",
    "# Width, Length, Height\n",
    "base_shape = [[4,1,2],[3,1,2], [2,2,2],[2,3,2]]"
   ]
  },
  {
   "cell_type": "markdown",
   "metadata": {},
   "source": [
    "#### **Output Dir**\n",
    "\n",
    "The output directory is defined for storing configuration files."
   ]
  },
  {
   "cell_type": "code",
   "execution_count": null,
   "metadata": {},
   "outputs": [],
   "source": [
    "out_dir = '/YOUR_PATH_TO_TASK_FOLDER/configure/'\n",
    "initialize_output_directory(out_dir)"
   ]
  },
  {
   "cell_type": "markdown",
   "metadata": {},
   "source": [
    "#### **Variance Config**\n",
    "\n",
    "Let pick a combination! Randomly!"
   ]
  },
  {
   "cell_type": "code",
   "execution_count": 28,
   "metadata": {},
   "outputs": [],
   "source": [
    "def _var_cfg(random_seed):\n",
    "    random.seed(num_action)\n",
    "    var_cfg = {\n",
    "        \"agent_counts\": random.sample(agent_counts, 1),\n",
    "        \"background\": random.sample(background, 1),\n",
    "        \"playground_location\": sample_dict_item(generate_multiple_playgrounds(playground_data)),\n",
    "        \"base_shape\": random.sample(base_shape,1),\n",
    "        \"block_type\": None, \n",
    "        \"placement_shape\": None}\n",
    "    return var_cfg\n",
    "\n",
    "    "
   ]
  },
  {
   "cell_type": "markdown",
   "metadata": {},
   "source": [
    "#### **Bot Name**"
   ]
  },
  {
   "cell_type": "code",
   "execution_count": 29,
   "metadata": {},
   "outputs": [],
   "source": [
    "def _bot(var_cfg):\n",
    "    if var_cfg[\"agent_counts\"][0] == 2:\n",
    "        return ['bot1', 'bot2']\n",
    "    elif var_cfg[\"agent_counts\"][0] == 3:\n",
    "        return ['bot1', 'bot2', 'bot3']\n",
    "    elif var_cfg[\"agent_counts\"][0] == 4:\n",
    "        return ['bot1', 'bot2', 'bot3', 'bot0']"
   ]
  },
  {
   "cell_type": "markdown",
   "metadata": {
    "vscode": {
     "languageId": "latex"
    }
   },
   "source": [
    "#### **Bot Init Orientation**\n",
    "\n",
    "Agents will be spawn near the edge of the playgound. You can check this behavior by editng the `generate_multiple_playgrounds` function in the `helper.py`\n",
    "\n",
    "All agents can look at a completely random direction."
   ]
  },
  {
   "cell_type": "code",
   "execution_count": 18,
   "metadata": {},
   "outputs": [],
   "source": [
    "def bot_init(cfg):\n",
    "    bot_range_x = [var_cfg[\"playground_location\"][\"bot_range\"][0] for _ in range(len(bot))]\n",
    "    bot_range_y = [var_cfg[\"playground_location\"][\"bot_range\"][1] for _ in range(len(bot))]\n",
    "    bot_height = var_cfg[\"playground_location\"][\"bot_range\"][2]\n",
    "\n",
    "    bot_pitch = [[-10,10],[-10,10],[-10,10],[-10,10]]\n",
    "    bot_yaw = [[0,360],[0,360],[0,360],[0,360]]\n",
    "    \n",
    "    return bot_range_x, bot_range_y, bot_height, bot_pitch, bot_yaw"
   ]
  },
  {
   "cell_type": "markdown",
   "metadata": {},
   "source": [
    "#### **Init Command**\n",
    "\n",
    "The init command that will be execute beofore each task. This gives **huge** freedom to define the environment. \n",
    "\n",
    "You can refer to command usage [here](https://minecraft.fandom.com/wiki/Commands)."
   ]
  },
  {
   "cell_type": "code",
   "execution_count": 19,
   "metadata": {},
   "outputs": [],
   "source": [
    "init_command = f\"\"\"\n",
    "                await bot1.chat('hello!!!!!!!!!!!');\n",
    "                await bot1.chat('/gamerule doMobSpawning false');\n",
    "                await bot1.chat('/gamerule randomTickSpeed 0');\n",
    "                \"\"\""
   ]
  },
  {
   "cell_type": "markdown",
   "metadata": {},
   "source": [
    "#### **Playground Configuration**\n",
    "\n",
    "Playground configuration is also done by using pre-defined command string. \n",
    "\n",
    "The process include:\n",
    "  - force load area\n",
    "  - clean the playgound by filling air block (remove block)\n",
    "  - move observer to the top of the playgound and look down\n",
    "  - fill ground layer with pre-defined material\n",
    "\n",
    "**Note:** If you have playground size bigger than 5, you should change the code accordingly. The current setup is used for size of 5."
   ]
  },
  {
   "cell_type": "code",
   "execution_count": 26,
   "metadata": {},
   "outputs": [],
   "source": [
    "def playground_command(cfg):\n",
    "    # ------ Playground Configuration ------\n",
    "    # obs_command should be center and +4 block above the center with playgound size of 5, \n",
    "    # IMPORTANT: for a larger playground size, change obs_command and observer setup command accordingly\n",
    "    # obs_command yaw pitch should be -90 90  \n",
    "    \n",
    "    xx, yy, zz = var_cfg['playground_location']['x'][0], var_cfg['playground_location']['y'], var_cfg['playground_location']['z'][0]\n",
    "    xxx, zzz =   var_cfg['playground_location']['x'][1], var_cfg['playground_location']['z'][1]\n",
    "    obs_x, obs_y, obs_z = var_cfg['playground_location']['center']\n",
    "    obs_y += 4\n",
    "    \n",
    "    # Forceload the area\n",
    "    playground_command = f\"await bot1.chat('/forceload add {xx-1} {zzz+1}');\"\n",
    "    # Clear the area\n",
    "    playground_command+= f\"await bot1.chat('/fill {xx-4} {yy-1} {zz-4} {xxx+4} {yy+1} {zzz+4} minecraft:air');\"\n",
    "    # Set up the observer\n",
    "    playground_command+=f\"\"\"\n",
    "                    await bot4.chat('/setblock {obs_x} {obs_y-1} {obs_z} minecraft:barrier');\n",
    "                    await bot4.chat('/gamemode spectator');\n",
    "                    await bot4.chat('/tp @p {obs_x} {obs_y} {obs_z} -90 90');\n",
    "                \"\"\"\n",
    "\n",
    "    # Fill the ground layer with the background material\n",
    "    playground_command += f\"await bot1.chat('/fill {xx} {yy-1} {zz} {xxx} {yy-1} {zzz} {var_cfg['background'][0]}');\"\n",
    "\n",
    "    # Fill the layers above with air\n",
    "    playground_command += f\"await bot1.chat('/fill {xx-1} {yy} {zz-1} {xxx} {yy+1} {zzz} minecraft:air');\"\n",
    "    \n",
    "    return playground_command\n"
   ]
  },
  {
   "cell_type": "markdown",
   "metadata": {},
   "source": [
    "#### **Observer Configuration**\n",
    "\n",
    "**Note:** If you have playground size bigger than 6, you should change the code accordingly. The current setup is good for playground size <= 6."
   ]
  },
  {
   "cell_type": "code",
   "execution_count": 21,
   "metadata": {},
   "outputs": [],
   "source": [
    "def obs_command(cfg):\n",
    "    \n",
    "    # ------ Playground Configuration ------\n",
    "    # obs_command should be center and +4 block above the center with playgound size of 5, \n",
    "    # IMPORTANT: for a larger playground size, change obs_command and observer setup command accordingly\n",
    "    # obs_command yaw pitch should be -90 90  \n",
    "    \n",
    "    obs_x, obs_y, obs_z = var_cfg['playground_location']['center']\n",
    "    obs_y += 4\n",
    "    \n",
    "    obs_command = []\n",
    "    obs_command.append([f\"\"\"\n",
    "                        await bot4.chat('/setblock {obs_x-6} {obs_y-5} {obs_z} minecraft:barrier');\n",
    "                        await bot4.chat('/tp @p {obs_x-6} {obs_y-4} {obs_z} -90 0');\n",
    "                        \"\"\"])\n",
    "    obs_command.append([f\"\"\"\n",
    "                        await bot4.chat('/setblock {obs_x} {obs_y-5} {obs_z+6} minecraft:barrier');\n",
    "                        await bot4.chat('/tp @p {obs_x} {obs_y-4} {obs_z+6} -180 0');\n",
    "                        \"\"\"])\n",
    "    obs_command.append([f\"\"\"\n",
    "                        await bot4.chat('/tp @p {obs_x} {obs_y} {obs_z} -90 90');\n",
    "                 \"\"\"])\n",
    "    return obs_command"
   ]
  },
  {
   "cell_type": "markdown",
   "metadata": {},
   "source": [
    "#### **Done Input**\n",
    "\n",
    "Define your done input here. This is a extra variable that could be used by your done function, and will be automatically load by env."
   ]
  },
  {
   "cell_type": "code",
   "execution_count": 22,
   "metadata": {},
   "outputs": [],
   "source": [
    "# TODO: Implement the done input configuration in the code below!!!!\n",
    "# DO NOT IMPLEMENT THE ACTION COMMANDS HERE\n",
    "done_input=[]"
   ]
  },
  {
   "cell_type": "markdown",
   "metadata": {},
   "source": [
    "#### **Action**\n",
    "\n",
    "Define agent action here. Please refer to [env doc](../env_doc.md) for supprted actions."
   ]
  },
  {
   "cell_type": "code",
   "execution_count": null,
   "metadata": {},
   "outputs": [],
   "source": [
    "# TODO: Implement the bot actions configuration in the code below!!!!\n",
    "# DO NOT IMPLEMENT THE ACTION COMMANDS HERE\n",
    "action_list = [[] for _ in range(len(bot))]"
   ]
  },
  {
   "cell_type": "markdown",
   "metadata": {},
   "source": [
    "#### **Inventory**\n",
    "\n",
    "Define agent inventories here. Inventory can be any minecraft items that supported by Java Edition 1.16.4. There are over 1,000 items available.\n",
    "\n",
    "##### Refer to [Complete list](https://minecraft.fandom.com/wiki/Item).\n",
    "\n",
    "##### **Finding the Right Item Name**\n",
    "To use a new block type, follow these steps:\n",
    "\n",
    "1. **Locate your preferred item** under the \"List of items\" section.\n",
    "2. **Click on the block link** to open its detailed page.\n",
    "3. **Check its availability in version 1.16.4 (Java Edition):**\n",
    "   - Navigate to the **\"History\"** section.\n",
    "   - Find the **\"Java Edition\"** tab.\n",
    "   - Look for the version number in the first row under Java Edition.\n",
    "   - Ensure the item was introduced **before or in** version **1.16.4**.\n",
    "     - Example: [Bricks](https://minecraft.wiki/w/Bricks) were introduced in version **1.0.0**, so they are available.\n",
    "     - Example: [Froglight](https://minecraft.wiki/w/Froglight#Pearlescent) was introduced in **1.19**, which is later than **1.16.4**, so it is **not available**.\n",
    "4. **Retrieve the item name:**\n",
    "   - Go to the **\"Data values\"** section.\n",
    "   - Find the **\"ID\"** subsection.\n",
    "   - Locate the **\"Java Edition\"** identifier.\n",
    "   - Use the block name listed under **\"Identifier\"** in the script.\n",
    "\n",
    "**Note:** Some item have different **variants**, primarily in color. Each variant is a valid block and can be used independently."
   ]
  },
  {
   "cell_type": "code",
   "execution_count": null,
   "metadata": {},
   "outputs": [],
   "source": [
    "# TODO: Implement the bot inventory configuration in the code below!!!!\n",
    "# DO NOT IMPLEMENT THE INVENTORY COMMANDS HERE\n",
    "bot_assigned_item = [[] for i in range(len(bot))]"
   ]
  },
  {
   "cell_type": "markdown",
   "metadata": {},
   "source": [
    "### 2.3 Main Loop\n",
    "\n",
    "Construct a full file by 100 times!"
   ]
  },
  {
   "cell_type": "code",
   "execution_count": null,
   "metadata": {},
   "outputs": [],
   "source": [
    "# Batch random generation of JSON files\n",
    "for num_action in range(0, 100):\n",
    "\n",
    "    # ----- Random Seed -----\n",
    "    random.seed(num_action)\n",
    "    \n",
    "    # ----- Configuration -----\n",
    "    var_cfg = _var_cfg(num_action)\n",
    "\n",
    "    # ----- Bot Configuration -----\n",
    "    bot = _bot(var_cfg)\n",
    "    bot_range_x, bot_range_y, bot_height, bot_pitch, bot_yaw = bot_init(var_cfg)\n",
    "\n",
    "    # ----- Command Configuration -----\n",
    "    input_data = {}\n",
    "    \n",
    "    # Example command, for reference\n",
    "    input_data['command']=init_command\n",
    "                \n",
    "    if len(bot) == 2:\n",
    "        input_data['command']+=\"\"\"\n",
    "                    await bot3.chat('/gamemode spectator');\n",
    "                    await bot3.chat('/tp @p 10 10 10');\n",
    "                    \"\"\"\n",
    "    if len(bot) == 3 or len(bot) == 4:\n",
    "        input_data['command']+=\"\"\"\n",
    "                    await bot3.chat('/gamemode survival');\n",
    "                    \"\"\"\n",
    "    \n",
    "    # ------ Playground Configuration ------\n",
    "    input_data['command']+=playground_command(var_cfg)\n",
    "\n",
    "    # ----- Observer Configuration -----\n",
    "    input_data['obs_command'] = obs_command(var_cfg)\n",
    "    \n",
    "    # ----- Done Input Configuration -----\n",
    "    # TODO: Implement the done input configuration\n",
    "    done_input = []\n",
    "    # ----- Bot Action and Inventory Configuration -----\n",
    "    # TODO: Implement the bot actions configuration\n",
    "    action_list = [[] for _ in range(len(bot))]\n",
    "    # TODO: Implement the bot inventory configuration\n",
    "    bot_assigned_item = [[] for i in range(len(bot))]\n",
    "    \n",
    "    \n",
    "    \n",
    "    \n",
    "    \n",
    "    \n",
    "    ############################################################################################\n",
    "    # ------------------------ Below are example for building task -----------------------------\n",
    "    max_capacity = var_cfg[\"base_shape\"][0][0] * var_cfg[\"base_shape\"][0][1] * 2\n",
    "\n",
    "    # ----- Item Configuration -----\n",
    "    # Target item selection\n",
    "    n_items = random.randint(6, max_capacity) if len(bot) == 3 else random.randint(5, max_capacity)\n",
    "    # Randomly pick k items with replacement\n",
    "    target_item = random.choices(all_items, k=n_items)\n",
    "    \n",
    "    var_cfg[\"block_type\"] = target_item\n",
    "    var_cfg[\"block_count\"] = n_items\n",
    "    \n",
    "    # ----- Block Placement Configuration -----\n",
    "    width, depth, height = var_cfg[\"base_shape\"][0]\n",
    "    spots = list(range(0, width * depth * height))\n",
    "    \n",
    "    # ----- Example of randomizing placing of \"target_item\" on the playground ----- \n",
    "    \n",
    "    placed_spots = []\n",
    "    placed_spots_number = []\n",
    "\n",
    "    for item in target_item:\n",
    "        # Randomly select a spot\n",
    "        spot = spots.pop()\n",
    "        x, y, z = translate_to_coordinates(spot, width, depth, height)\n",
    "        \n",
    "        placed_spots.append((x, z, y))\n",
    "        placed_spots_number.append(translate_to_index(x, y, z, width, depth, height))\n",
    "        \n",
    "        x += var_cfg[\"playground_location\"][\"x\"][0] + 1\n",
    "        y += var_cfg[\"playground_location\"][\"z\"][0] + 1\n",
    "        z_height = var_cfg['playground_location'][\"y\"] + z\n",
    "        \n",
    "        input_data['command'] += f\"await bot1.chat('/setblock {x} {z_height} {y} minecraft:{item}');\"\n",
    "        \n",
    "        # Exapmple done_input. You can design your own done_input based on the reward function\n",
    "        done_input.append([item,x,z_height,y])\n",
    "        \n",
    "        \n",
    "    var_cfg[\"placement_shape\"] = placed_spots\n",
    "    var_cfg[\"placement_shape_number\"] = placed_spots_number\n",
    "    # ------------------------ Above are example for building task -----------------------------\n",
    "    ############################################################################################\n",
    "\n",
    "    \n",
    "    \n",
    "        \n",
    "    # ----- Enumearate through the bots and assign actions and inventory -----\n",
    "    for i, b in enumerate(bot):\n",
    "        input_data[b]={}\n",
    "        x_min,x_max = bot_range_x[i]\n",
    "        y_min,y_max = bot_range_y[i]\n",
    "        pitch_min,pitch_max = bot_pitch[i]\n",
    "        yaw_min,yaw_max =  bot_yaw[i]\n",
    "        x = round(random.uniform(x_min, x_max),2)\n",
    "        y = round(random.uniform(y_min, y_max),2)\n",
    "        pitch = round(random.uniform(pitch_min, pitch_max),2)\n",
    "        yaw = round(random.uniform(yaw_min, yaw_max),2)\n",
    "        input_data[b]['location'] = [x,bot_height,y]\n",
    "        input_data[b]['rotation'] = [yaw,pitch]\n",
    "        input_data[b]['inventory'] = {}\n",
    "        \n",
    "        input_data['command']+='await '+b+'.chat(\\'/tp @p '+str(x)+' '+str(bot_height)+' '+str(y)+' '+str(yaw)+' ' +str(pitch)+' '+'\\');'\n",
    "        for item in bot_assigned_item[i]:\n",
    "            input_data[b]['inventory'][item]=input_data[b]['inventory'].get(item,0)+random.randint(1, 3) # Randomly assign 1-3 more items to the bot, change if needed\n",
    "        ###################################################################################################\n",
    "        # ----- To make sure bots are able to finish the building task, give them needed target items -----\n",
    "        for item in random.sample(target_item, random.randint(1, len(target_item))):\n",
    "            input_data[b]['inventory'][item]=input_data[b]['inventory'].get(item,0)+random.randint(1, 3)\n",
    "        # -------------------------------------------------------------------------------------------------\n",
    "        ###################################################################################################\n",
    "        for item in input_data[b]['inventory']:\n",
    "            input_data['command']+='await '+b+'.chat(\\'/give @p ' +item+' '+str(input_data[b]['inventory'][item])+'\\');'\n",
    "\n",
    "    # ----- Write Configuration -----\n",
    "    input_data['variant']=num_action\n",
    "    input_data['done_input']=done_input\n",
    "    input_data['actions']=interleave_lists(action_list)\n",
    "    input_data['item_spots']={}\n",
    "    input_data['variants_config'] = var_cfg\n",
    "    input_data['bot_list'] = bot\n",
    "    input_data['center_position'] = var_cfg['playground_location']['center']\n",
    "    \n",
    "    # ----- Store JSON file --------\n",
    "    file = out_dir+str(num_action)+'.json'\n",
    "\n",
    "    with open(file, 'w') as json_file:\n",
    "        json.dump(input_data, json_file, indent=4, cls=NpEncoder) "
   ]
  }
 ],
 "metadata": {
  "kernelspec": {
   "display_name": "teamcraft_train",
   "language": "python",
   "name": "python3"
  },
  "language_info": {
   "codemirror_mode": {
    "name": "ipython",
    "version": 3
   },
   "file_extension": ".py",
   "mimetype": "text/x-python",
   "name": "python",
   "nbconvert_exporter": "python",
   "pygments_lexer": "ipython3",
   "version": "3.9.21"
  }
 },
 "nbformat": 4,
 "nbformat_minor": 2
}
